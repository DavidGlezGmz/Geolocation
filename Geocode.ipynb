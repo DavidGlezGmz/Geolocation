{
  "nbformat": 4,
  "nbformat_minor": 0,
  "metadata": {
    "colab": {
      "name": "Geocode.ipynb",
      "provenance": [],
      "authorship_tag": "ABX9TyM2JYPKQudvg6KgIyevLddU"
    },
    "kernelspec": {
      "name": "python3",
      "display_name": "Python 3"
    },
    "language_info": {
      "name": "python"
    }
  },
  "cells": [
    {
      "cell_type": "code",
      "execution_count": 8,
      "metadata": {
        "id": "Rt6g85UY7eTZ"
      },
      "outputs": [],
      "source": [
        "from geopy import Nominatim"
      ]
    },
    {
      "cell_type": "code",
      "source": [
        "geolocator = Nominatim(user_agent = \"Silly_Pandas\")"
      ],
      "metadata": {
        "id": "MexwuY0i7ljm"
      },
      "execution_count": 9,
      "outputs": []
    },
    {
      "cell_type": "code",
      "source": [
        "#location = geolocator.geocode(\"1785 The Exchange SE Atlanta GA\")\n",
        "location = geolocator.geocode(\"137 Marsella Valle Dorado Tlalnepantla\")"
      ],
      "metadata": {
        "id": "tJ9SIAtU7ye9"
      },
      "execution_count": 10,
      "outputs": []
    },
    {
      "cell_type": "code",
      "source": [
        "location"
      ],
      "metadata": {
        "colab": {
          "base_uri": "https://localhost:8080/"
        },
        "id": "Zj5511el8Jhj",
        "outputId": "6eecae92-d8b3-4aff-e311-c6aa642f2076"
      },
      "execution_count": 11,
      "outputs": [
        {
          "output_type": "execute_result",
          "data": {
            "text/plain": [
              "Location(Calle Marsella, Colonia Valle Dorado, Tlalnepantla, Tlalnepantla de Baz, Estado de México, 54020, México, (19.5488392, -99.2127138, 0.0))"
            ]
          },
          "metadata": {},
          "execution_count": 11
        }
      ]
    },
    {
      "cell_type": "code",
      "source": [
        "location.point"
      ],
      "metadata": {
        "colab": {
          "base_uri": "https://localhost:8080/"
        },
        "id": "RymD3xii8K2R",
        "outputId": "17605358-effe-461d-bd8e-85e2b7aba473"
      },
      "execution_count": 12,
      "outputs": [
        {
          "output_type": "execute_result",
          "data": {
            "text/plain": [
              "Point(19.5488392, -99.2127138, 0.0)"
            ]
          },
          "metadata": {},
          "execution_count": 12
        }
      ]
    },
    {
      "cell_type": "code",
      "source": [
        "location.raw"
      ],
      "metadata": {
        "colab": {
          "base_uri": "https://localhost:8080/"
        },
        "id": "ILD9Jk6L-jZ3",
        "outputId": "e9d050ad-769e-45af-8cdf-5c9684e1095c"
      },
      "execution_count": 13,
      "outputs": [
        {
          "output_type": "execute_result",
          "data": {
            "text/plain": [
              "{'boundingbox': ['19.5487553', '19.5489207', '-99.2132089', '-99.2122353'],\n",
              " 'class': 'highway',\n",
              " 'display_name': 'Calle Marsella, Colonia Valle Dorado, Tlalnepantla, Tlalnepantla de Baz, Estado de México, 54020, México',\n",
              " 'importance': 0.51,\n",
              " 'lat': '19.5488392',\n",
              " 'licence': 'Data © OpenStreetMap contributors, ODbL 1.0. https://osm.org/copyright',\n",
              " 'lon': '-99.2127138',\n",
              " 'osm_id': 780970484,\n",
              " 'osm_type': 'way',\n",
              " 'place_id': 253415938,\n",
              " 'type': 'residential'}"
            ]
          },
          "metadata": {},
          "execution_count": 13
        }
      ]
    },
    {
      "cell_type": "code",
      "source": [
        "location.point[0], location.point[1]"
      ],
      "metadata": {
        "colab": {
          "base_uri": "https://localhost:8080/"
        },
        "id": "Hdnvl1X5-sBk",
        "outputId": "5214a59d-a5ff-4146-d042-0ebbb7430a3a"
      },
      "execution_count": 14,
      "outputs": [
        {
          "output_type": "execute_result",
          "data": {
            "text/plain": [
              "(19.5488392, -99.2127138)"
            ]
          },
          "metadata": {},
          "execution_count": 14
        }
      ]
    }
  ]
}