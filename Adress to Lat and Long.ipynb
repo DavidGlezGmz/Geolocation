{
  "nbformat": 4,
  "nbformat_minor": 0,
  "metadata": {
    "colab": {
      "name": "Untitled3.ipynb",
      "provenance": [],
      "authorship_tag": "ABX9TyOu36X6bnMH9ryImiwkpWub"
    },
    "kernelspec": {
      "name": "python3",
      "display_name": "Python 3"
    },
    "language_info": {
      "name": "python"
    }
  },
  "cells": [
    {
      "cell_type": "code",
      "execution_count": 3,
      "metadata": {
        "colab": {
          "base_uri": "https://localhost:8080/"
        },
        "id": "DhuvAJKIdY3O",
        "outputId": "2abc3a7d-18a5-4635-98c5-c5119ba1dc70"
      },
      "outputs": [
        {
          "output_type": "stream",
          "name": "stdout",
          "text": [
            "1785 The Exchange SE Atlanta GA\n",
            "137 Marsella Valle Dorado Tlalnepantla\n",
            "2274 Hidden Glen Drive Marietta GA\n",
            "(3, 2)\n",
            "[[ 33.90915665 -84.4791487 ]\n",
            " [ 19.5488392  -99.2127138 ]\n",
            " [ 33.9200861  -84.4996079 ]]\n"
          ]
        }
      ],
      "source": [
        "import numpy as np\n",
        "import pandas as pd\n",
        "import matplotlib.pyplot as plt\n",
        "\n",
        "from geopy import Nominatim\n",
        "\n",
        "def LatLon_Converter(adress):\n",
        "  geolocator = Nominatim(user_agent = \"Silly_Pandas\")\n",
        "  X_test = []\n",
        "\n",
        "  for i in range(len(adress)):\n",
        "    print (adress[i])\n",
        "    location = geolocator.geocode(adress[i])\n",
        "    LatLon = location.point[0], location.point[1]\n",
        "    X_test.append(LatLon)\n",
        "  \n",
        "  X_test = np.array(X_test)\n",
        "  print (X_test.shape)\n",
        "\n",
        "  return X_test\n",
        "  \n",
        "print(LatLon_Converter(('1785 The Exchange SE Atlanta GA', '137 Marsella Valle Dorado Tlalnepantla', '2274 Hidden Glen Drive Marietta GA')))\n"
      ]
    }
  ]
}